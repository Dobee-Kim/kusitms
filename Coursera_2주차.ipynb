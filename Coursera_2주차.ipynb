{
  "nbformat": 4,
  "nbformat_minor": 0,
  "metadata": {
    "colab": {
      "name": "Coursera 2주차",
      "provenance": [],
      "authorship_tag": "ABX9TyMW4rBQrM9ZBXEKslpVU3yU",
      "include_colab_link": true
    },
    "kernelspec": {
      "name": "python3",
      "display_name": "Python 3"
    },
    "language_info": {
      "name": "python"
    }
  },
  "cells": [
    {
      "cell_type": "markdown",
      "metadata": {
        "id": "view-in-github",
        "colab_type": "text"
      },
      "source": [
        "<a href=\"https://colab.research.google.com/github/Dobee-Kim/kusitms/blob/master/Coursera_2%EC%A3%BC%EC%B0%A8.ipynb\" target=\"_parent\"><img src=\"https://colab.research.google.com/assets/colab-badge.svg\" alt=\"Open In Colab\"/></a>"
      ]
    },
    {
      "cell_type": "markdown",
      "metadata": {
        "id": "7SGLZ2Wjrmvx"
      },
      "source": [
        "# Broadcasting example"
      ]
    },
    {
      "cell_type": "code",
      "metadata": {
        "colab": {
          "base_uri": "https://localhost:8080/"
        },
        "id": "UvsoIhzOoeRg",
        "outputId": "8fc01b52-946c-49a1-ec0a-c16a2502bdcf"
      },
      "source": [
        "import numpy as np\n",
        "\n",
        "A = np.array([[56.0, 0.0, 4.4, 68.0],\n",
        "             [1.2, 104.0, 52.0, 0.0],\n",
        "             [1.8, 135.0, 99.0, 0.9]])\n",
        "print(A)"
      ],
      "execution_count": 5,
      "outputs": [
        {
          "output_type": "stream",
          "text": [
            "[[ 56.    0.    4.4  68. ]\n",
            " [  1.2 104.   52.    0. ]\n",
            " [  1.8 135.   99.    0.9]]\n"
          ],
          "name": "stdout"
        }
      ]
    },
    {
      "cell_type": "code",
      "metadata": {
        "colab": {
          "base_uri": "https://localhost:8080/"
        },
        "id": "1ZXWMaaho1kC",
        "outputId": "aef2819e-6b51-4b00-a7a6-c8f30ea47b0e"
      },
      "source": [
        "cal = A.sum(axis=0)\n",
        "print(cal)"
      ],
      "execution_count": 6,
      "outputs": [
        {
          "output_type": "stream",
          "text": [
            "[ 59.  239.  155.4  68.9]\n"
          ],
          "name": "stdout"
        }
      ]
    },
    {
      "cell_type": "code",
      "metadata": {
        "colab": {
          "base_uri": "https://localhost:8080/"
        },
        "id": "bVVAAkQno54y",
        "outputId": "33cff454-7eaa-453c-88ed-d1efbb33f518"
      },
      "source": [
        "percentage = 100*A/cal.reshape(1,4)\n",
        "print(percentage)"
      ],
      "execution_count": 7,
      "outputs": [
        {
          "output_type": "stream",
          "text": [
            "[[94.91525424  0.          2.83140283 98.69375907]\n",
            " [ 2.03389831 43.51464435 33.46203346  0.        ]\n",
            " [ 3.05084746 56.48535565 63.70656371  1.30624093]]\n"
          ],
          "name": "stdout"
        }
      ]
    },
    {
      "cell_type": "markdown",
      "metadata": {
        "id": "4ZaaaTCXruVj"
      },
      "source": [
        "# A Note on Python/Numpy Vectors"
      ]
    },
    {
      "cell_type": "code",
      "metadata": {
        "id": "ibfV_IaLpQtv"
      },
      "source": [
        "import numpy as np\n",
        "\n",
        "a = np.random.randn(5)"
      ],
      "execution_count": 8,
      "outputs": []
    },
    {
      "cell_type": "code",
      "metadata": {
        "colab": {
          "base_uri": "https://localhost:8080/"
        },
        "id": "Vs2s041Pr56s",
        "outputId": "5848062e-2fbd-463a-cf44-7e3ee6227364"
      },
      "source": [
        "print(a)"
      ],
      "execution_count": 9,
      "outputs": [
        {
          "output_type": "stream",
          "text": [
            "[ 0.58244944  0.38582492 -1.15484635  1.51433063 -0.33720529]\n"
          ],
          "name": "stdout"
        }
      ]
    },
    {
      "cell_type": "code",
      "metadata": {
        "colab": {
          "base_uri": "https://localhost:8080/"
        },
        "id": "yr6VlFz_r67i",
        "outputId": "be441de4-da40-47b0-bd07-e43c380830b1"
      },
      "source": [
        "print(a.shape) # row vector도 column vector도 아님"
      ],
      "execution_count": 11,
      "outputs": [
        {
          "output_type": "stream",
          "text": [
            "(5,)\n"
          ],
          "name": "stdout"
        }
      ]
    },
    {
      "cell_type": "code",
      "metadata": {
        "colab": {
          "base_uri": "https://localhost:8080/"
        },
        "id": "Qtd8eilhr9J7",
        "outputId": "9dc4e3f2-8697-4abe-dd90-111f38132428"
      },
      "source": [
        "print(a.T)"
      ],
      "execution_count": 14,
      "outputs": [
        {
          "output_type": "stream",
          "text": [
            "[ 0.58244944  0.38582492 -1.15484635  1.51433063 -0.33720529]\n"
          ],
          "name": "stdout"
        }
      ]
    },
    {
      "cell_type": "code",
      "metadata": {
        "colab": {
          "base_uri": "https://localhost:8080/"
        },
        "id": "ybknZmS6sCOh",
        "outputId": "b3d3a685-4088-4492-81ad-dbd3da6efb19"
      },
      "source": [
        "print(np.dot(a,a.T))"
      ],
      "execution_count": 15,
      "outputs": [
        {
          "output_type": "stream",
          "text": [
            "4.22868298301478\n"
          ],
          "name": "stdout"
        }
      ]
    },
    {
      "cell_type": "code",
      "metadata": {
        "colab": {
          "base_uri": "https://localhost:8080/"
        },
        "id": "_Gfeg7FesFrA",
        "outputId": "6038093e-53d1-4c9b-af90-2358cf31c8f6"
      },
      "source": [
        "a = np.random.randn(5,1)\n",
        "print(a)"
      ],
      "execution_count": 17,
      "outputs": [
        {
          "output_type": "stream",
          "text": [
            "[[-0.86165089]\n",
            " [-0.53234981]\n",
            " [-0.31950655]\n",
            " [-1.09699963]\n",
            " [-1.98322449]]\n"
          ],
          "name": "stdout"
        }
      ]
    },
    {
      "cell_type": "code",
      "metadata": {
        "colab": {
          "base_uri": "https://localhost:8080/"
        },
        "id": "1ZC1SmB1sUDX",
        "outputId": "a7594adb-ae82-4ab0-a5a1-691ce01f5535"
      },
      "source": [
        "print(a.T)"
      ],
      "execution_count": 19,
      "outputs": [
        {
          "output_type": "stream",
          "text": [
            "[[-0.86165089 -0.53234981 -0.31950655 -1.09699963 -1.98322449]]\n"
          ],
          "name": "stdout"
        }
      ]
    },
    {
      "cell_type": "code",
      "metadata": {
        "colab": {
          "base_uri": "https://localhost:8080/"
        },
        "id": "YQ0cWUZHsXUt",
        "outputId": "85cd4442-9881-42e3-b31c-17bf9c4f8252"
      },
      "source": [
        "print(np.dot(a,a.T))"
      ],
      "execution_count": 20,
      "outputs": [
        {
          "output_type": "stream",
          "text": [
            "[[0.74244226 0.45869969 0.27530311 0.94523071 1.70884716]\n",
            " [0.45869969 0.28339632 0.17008925 0.58398754 1.05576917]\n",
            " [0.27530311 0.17008925 0.10208444 0.35049857 0.63365322]\n",
            " [0.94523071 0.58398754 0.35049857 1.20340818 2.17559653]\n",
            " [1.70884716 1.05576917 0.63365322 2.17559653 3.93317939]]\n"
          ],
          "name": "stdout"
        }
      ]
    },
    {
      "cell_type": "code",
      "metadata": {
        "colab": {
          "base_uri": "https://localhost:8080/"
        },
        "id": "fo_tXJs7sdW2",
        "outputId": "ea843496-a19c-4383-9a63-9f503362dcda"
      },
      "source": [
        "a = np.random.randn(3, 3)\n",
        "b = np.random.randn(3, 1)\n",
        "c = a*b \n",
        "print(a)\n",
        "print(b)\n",
        "print(c)"
      ],
      "execution_count": 24,
      "outputs": [
        {
          "output_type": "stream",
          "text": [
            "[[ 0.60867077 -0.95815743  1.67936694]\n",
            " [ 1.15791685  1.10480104  1.0556783 ]\n",
            " [ 0.02569102 -0.59070253 -1.33212797]]\n",
            "[[ 0.53450697]\n",
            " [-0.21784588]\n",
            " [-0.27923843]]\n",
            "[[ 0.32533877 -0.51214182  0.89763333]\n",
            " [-0.25224741 -0.24067635 -0.22997517]\n",
            " [-0.00717392  0.16494684  0.37198132]]\n"
          ],
          "name": "stdout"
        }
      ]
    },
    {
      "cell_type": "code",
      "metadata": {
        "colab": {
          "base_uri": "https://localhost:8080/"
        },
        "id": "f_LGEvFJ0ama",
        "outputId": "71e6aa8b-dae9-4195-c8c6-7e7c28a4df06"
      },
      "source": [
        "0.60867077 * 0.53450697"
      ],
      "execution_count": 25,
      "outputs": [
        {
          "output_type": "execute_result",
          "data": {
            "text/plain": [
              "0.3253387690002669"
            ]
          },
          "metadata": {
            "tags": []
          },
          "execution_count": 25
        }
      ]
    },
    {
      "cell_type": "code",
      "metadata": {
        "id": "7SSe8YTE0u8W"
      },
      "source": [
        ""
      ],
      "execution_count": null,
      "outputs": []
    }
  ]
}